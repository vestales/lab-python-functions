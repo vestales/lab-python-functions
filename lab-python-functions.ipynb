{
 "cells": [
  {
   "cell_type": "markdown",
   "id": "25d7736c-ba17-4aff-b6bb-66eba20fbf4e",
   "metadata": {},
   "source": [
    "# Lab | Functions"
   ]
  },
  {
   "cell_type": "markdown",
   "id": "0c581062-8967-4d93-b06e-62833222f930",
   "metadata": {
    "tags": []
   },
   "source": [
    "## Exercise: Managing Customer Orders with Functions\n",
    "\n",
    "In the previous exercise, you improved the code for managing customer orders by using loops and flow control. Now, let's take it a step further and refactor the code by introducing functions.\n",
    "\n",
    "Follow the steps below to complete the exercise:\n",
    "\n",
    "1. Define a function named `initialize_inventory` that takes `products` as a parameter. Inside the function, implement the code for initializing the inventory dictionary using a loop and user input.\n",
    "\n",
    "2. Define a function named `get_customer_orders` that takes no parameters. Inside the function, implement the code for prompting the user to enter the product names using a loop. The function should return the `customer_orders` set.\n",
    "\n",
    "3. Define a function named `update_inventory` that takes `customer_orders` and `inventory` as parameters. Inside the function, implement the code for updating the inventory dictionary based on the customer orders.\n",
    "\n",
    "4. Define a function named `calculate_order_statistics` that takes `customer_orders` and `products` as parameters. Inside the function, implement the code for calculating the order statistics (total products ordered, and percentage of unique products ordered). The function should return these values.\n",
    "\n",
    "5. Define a function named `print_order_statistics` that takes `order_statistics` as a parameter. Inside the function, implement the code for printing the order statistics.\n",
    "\n",
    "6. Define a function named `print_updated_inventory` that takes `inventory` as a parameter. Inside the function, implement the code for printing the updated inventory.\n",
    "\n",
    "7. Call the functions in the appropriate sequence to execute the program and manage customer orders.\n",
    "\n",
    "Hints for functions:\n",
    "\n",
    "- Consider the input parameters required for each function and their return values.\n",
    "- Utilize function parameters and return values to transfer data between functions.\n",
    "- Test your functions individually to ensure they work correctly.\n",
    "\n",
    "\n"
   ]
  },
  {
   "cell_type": "code",
   "execution_count": 4,
   "id": "429efc2b",
   "metadata": {},
   "outputs": [],
   "source": [
    "def initialize_inventory (products):\n",
    "#definimos el inventario y pedimos que introduzcan la cantidad de articulos que hay\n",
    "\n",
    "    inventory = {}\n",
    "    for product in products:\n",
    "        inventory[product] = int(input(f\"How many {product} are in stock?\").strip())\n",
    "\n",
    "    return inventory"
   ]
  },
  {
   "cell_type": "code",
   "execution_count": 5,
   "id": "74212a9f",
   "metadata": {},
   "outputs": [],
   "source": [
    "def get_customer_orders ():\n",
    "\n",
    "    #le pedimos al cliente que objetos quiere comprar\n",
    "    customer_orders = set()\n",
    "\n",
    "    while True:\n",
    "        item=input(\"What item do you want to buy?\").strip()\n",
    "        customer_orders.add(item)\n",
    "        opcion = input(\"Do you buy another product? (Y/N)\").strip().lower()\n",
    "        if opcion == \"n\":\n",
    "            break\n",
    "\n",
    "\n",
    "    return customer_orders"
   ]
  },
  {
   "cell_type": "code",
   "execution_count": 6,
   "id": "399186d6",
   "metadata": {},
   "outputs": [],
   "source": [
    "def update_inventory (customer_orders, inventory):\n",
    "#quitamos del inventario los productos pedidos\n",
    "    \n",
    "    for product in customer_orders:\n",
    "        inventory[product] -= 1\n",
    "\n",
    "    return inventory"
   ]
  },
  {
   "cell_type": "code",
   "execution_count": 7,
   "id": "6cf542a9",
   "metadata": {},
   "outputs": [],
   "source": [
    "def calculate_order_statistics (customer_orders, products):\n",
    "#calculamos el porcentaje de productos pedidos en comparación con el total de productos \n",
    "\n",
    "    total_products_ordered = len(customer_orders)\n",
    "    percentage_ordered = (total_products_ordered / len(products)) * 100\n",
    "    order_statistics = (total_products_ordered, percentage_ordered)\n",
    "    return order_statistics"
   ]
  },
  {
   "cell_type": "code",
   "execution_count": 8,
   "id": "2739e7c7",
   "metadata": {},
   "outputs": [],
   "source": [
    "def print_order_statistics(order_statistics):\n",
    "#imprimimos el porcentaje de productos pedidos en comparación con el total de productos\n",
    "\n",
    "    print(\"Order Statistics:\")\n",
    "    print(\"Total Products Ordered:\", order_statistics[0])\n",
    "    print(\"Percentage of Unique Products Ordered:\", order_statistics[1])\n",
    "    "
   ]
  },
  {
   "cell_type": "code",
   "execution_count": 10,
   "id": "7b4451cc",
   "metadata": {},
   "outputs": [],
   "source": [
    "def print_updated_inventory (inventory):\n",
    "#imprimimos todo el inventario una vez actualizado\n",
    "\n",
    "    print(\"Updated Inventory:\")\n",
    "    for product in inventory:\n",
    "        print(f\"{product}:\", inventory[product])\n",
    "\n"
   ]
  },
  {
   "cell_type": "code",
   "execution_count": 11,
   "id": "c026791b",
   "metadata": {},
   "outputs": [
    {
     "name": "stdout",
     "output_type": "stream",
     "text": [
      "Order Statistics:\n",
      "Total Products Ordered: 2\n",
      "Percentage of Unique Products Ordered: 40.0\n",
      "Updated Inventory:\n",
      "t-shirt: 5\n",
      "mug: 5\n",
      "hat: 4\n",
      "book: 4\n",
      "keychain: 5\n"
     ]
    }
   ],
   "source": [
    "#definimos la lista de productos\n",
    "products = [\"t-shirt\", \"mug\", \"hat\", \"book\", \"keychain\"]\n",
    "\n",
    "#llamamos a las funciones\n",
    "\n",
    "inventory = initialize_inventory(products)\n",
    "\n",
    "customer_orders = get_customer_orders()\n",
    "\n",
    "inventory = update_inventory(customer_orders, inventory)\n",
    "\n",
    "order_statistics = calculate_order_statistics (customer_orders, products)\n",
    "\n",
    "print_order_statistics(order_statistics)\n",
    "\n",
    "print_updated_inventory (inventory)"
   ]
  }
 ],
 "metadata": {
  "kernelspec": {
   "display_name": "Python 3 (ipykernel)",
   "language": "python",
   "name": "python3"
  },
  "language_info": {
   "codemirror_mode": {
    "name": "ipython",
    "version": 3
   },
   "file_extension": ".py",
   "mimetype": "text/x-python",
   "name": "python",
   "nbconvert_exporter": "python",
   "pygments_lexer": "ipython3",
   "version": "3.11.7"
  }
 },
 "nbformat": 4,
 "nbformat_minor": 5
}
